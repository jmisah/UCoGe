{
 "cells": [
  {
   "cell_type": "code",
   "execution_count": 48,
   "metadata": {},
   "outputs": [],
   "source": [
    "# In this example a Dipolar field at the muon site of Superconducting Ferromagnet UCoGe is calculated\n",
    "# space group H-M Pnma  4 Co, U, Ge atoms each at 4c Wyckoff positions\n",
    "import numpy as np\n",
    "from muesr.core.sample import Sample                   # Retains all the sample info.\n",
    "from muesr.i_o.cif.cif import load_cif                 # For loading the structure from cif files\n",
    "from muesr.utilities import mago_add, show_structure   # For magnetic structure description and visualization\n",
    "from muesr.utilities import muon_find_equiv            # For finding and including the symmetry equivalent muon positions in the calculation\n",
    "from muesr.engines.clfc import locfield, find_largest_sphere # Does the sum and returns the local field in its various contributions\n",
    "np.set_printoptions(suppress=True,precision=5)\n"
   ]
  },
  {
   "cell_type": "code",
   "execution_count": 49,
   "metadata": {},
   "outputs": [
    {
     "data": {
      "text/plain": [
       "True"
      ]
     },
     "execution_count": 49,
     "metadata": {},
     "output_type": "execute_result"
    }
   ],
   "source": [
    "# All the MuSR data of the material can be found in the 10.1103/PhysRevLett.102.167003\n",
    "# More information of the structure properties can be found in https://doi.org/10.1016/0925-8388(95)02037-3\n",
    "s=Sample()\n",
    "load_cif(s,'UCoGe.cif')       # loading the sample crystal\n",
    "#show_structure(s,[1,1,1])    # Visualise the structure with  XCrysDen."
   ]
  },
  {
   "cell_type": "code",
   "execution_count": 50,
   "metadata": {},
   "outputs": [
    {
     "data": {
      "text/plain": [
       "True"
      ]
     },
     "execution_count": 50,
     "metadata": {},
     "output_type": "execute_result"
    }
   ],
   "source": [
    "s.add_muon([0.0,0.00,0.0])   # muon site added to the sample, experimentally obtain\n",
    "muon_find_equiv(s)           # find symmetry equivalent site\n",
    "#show_structure(s,[1,1,1])   # Visualise the structure with  XCrysDen."
   ]
  },
  {
   "cell_type": "code",
   "execution_count": 51,
   "metadata": {},
   "outputs": [],
   "source": [
    "#for i in s.muons:  # to see the equivalent sites\n",
    "#    print(i)"
   ]
  },
  {
   "cell_type": "code",
   "execution_count": 52,
   "metadata": {},
   "outputs": [],
   "source": [
    "#Magnetic structure \n",
    "\n",
    "# with magnetic moment of 0.07 Bohr magneton which we assume is located at the U atom || c (10.1103/PhysRevLett.102.167003),\n",
    "# The structure is ferromagnetic as specify in propagation vector  i.e 0 \n",
    "# In this case we choose the moment to be || b \n",
    "# because we inter change the lattice parameter c with b as used in 10.1103/PhysRevLett.102.167003 \n",
    "# check the CIF file\n",
    "\n",
    "mu_u=0.07   # moment in b axis (10.1103/PhysRevLett.102.167003)\n",
    "\n",
    "s.new_mm()\n",
    "s.mm.k=np.array([0.0,0.0,0.0])\n",
    "s.mm.fc=1.*np.array([   [0.0,0.0,0.0],\n",
    "                        [0.0,0.0,0.0],\n",
    "                        [0.0,0.0,0.0],\n",
    "                        [0.0,0.0,0.0],\n",
    "                        [0.0,mu_u,0.0],\n",
    "                        [0.0,mu_u,0.0],\n",
    "                        [0.0,mu_u,0.0],\n",
    "                        [0.0,mu_u,0.0],\n",
    "                        [0.0,0.0,0.0],\n",
    "                        [0.0,0.0,0.0],\n",
    "                        [0.0,0.0,0.0],\n",
    "                        [0.0,0.0,0.0]], dtype=np.complex)\n",
    "#mago_add(s)    # interactive magnetic structure definition"
   ]
  },
  {
   "cell_type": "code",
   "execution_count": 53,
   "metadata": {},
   "outputs": [],
   "source": [
    "#find the largest sphere with center at the muon site(s) \n",
    "#that can be  inscribed in a nxnxn supercell to perform the sum .\n",
    "# Calculate all local contributions to the field contained in r\n",
    "n=100    \n",
    "radius=find_largest_sphere(s,[n, n, n])\n",
    "r=locfield(s, 's', [n, n, n] ,radius)"
   ]
  },
  {
   "cell_type": "code",
   "execution_count": 54,
   "metadata": {
    "scrolled": false
   },
   "outputs": [
    {
     "name": "stdout",
     "output_type": "stream",
     "text": [
      "net field for site 1 := 0.014949902077508133\n",
      "net field for site 2 := 0.014949902077508135\n",
      "net field for site 3 := 0.014949902077508164\n",
      "net field for site 4 := 0.014949902077508162\n",
      "\n",
      "The dipolar field components for all 4 equivalent sites\n",
      "[[-0.00043  0.01124 -0.00941]\n",
      " [ 0.00043  0.01124  0.00941]\n",
      " [ 0.00043  0.01124 -0.00941]\n",
      " [-0.00043  0.01124  0.00941]]\n",
      "\n",
      "Compare the norm of calculate dipolar field = 0.01467 T with the experimental value = 0.015 T\n",
      "\n",
      "Lorentz Field, equal for all equivalent site\n",
      " 0.0000 0.0052 0.0000 T\n",
      "\n",
      "contact field component :\n",
      " [-0.      -0.00485 -0.     ]\n",
      "\n",
      " results in agreement with 10.1103/PhysRevLett.102.167003\n",
      "\n"
     ]
    }
   ],
   "source": [
    "cont_coup=-0.00892  #-0.0092\n",
    "B_dip=np.zeros([len(s.muons),3])\n",
    "B_Lor=np.zeros([len(s.muons),3])\n",
    "B_Cont=np.zeros([len(s.muons),3])\n",
    "B_Tot=np.zeros([len(s.muons),3])\n",
    "for i in range(len(s.muons)):\n",
    "    B_dip[i]=r[i].D\n",
    "    B_Lor[i]=r[i].L\n",
    "    r[i].ACont= cont_coup\n",
    "    B_Cont[i]=r[i].C\n",
    "    B_Tot[i]=r[i].T\n",
    "    print('net field for site', i+1,':=', np.linalg.norm(B_Tot[i]))\n",
    "print('')\n",
    "print('The dipolar field components for all ' +str(len(s.muons))+ ' equivalent sites')\n",
    "print(B_dip)\n",
    "print('')\n",
    "print('Compare the norm of calculate dipolar field = {:.5f} T with the experimental value = 0.015 T\\n'.format(np.linalg.norm(B_dip[0])))\n",
    "print('Lorentz Field, equal for all equivalent site')\n",
    "print(' {:5.4f} {:5.4f} {:5.4f} T\\n'.format(*tuple(B_Lor[0])))\n",
    "\n",
    "print('contact field component :\\n',B_Cont[0])\n",
    "\n",
    "print('')\n",
    "print(' results in agreement with 10.1103/PhysRevLett.102.167003\\n')\n"
   ]
  }
 ],
 "metadata": {
  "kernelspec": {
   "display_name": "Python 3",
   "language": "python",
   "name": "python3"
  },
  "language_info": {
   "codemirror_mode": {
    "name": "ipython",
    "version": 3
   },
   "file_extension": ".py",
   "mimetype": "text/x-python",
   "name": "python",
   "nbconvert_exporter": "python",
   "pygments_lexer": "ipython3",
   "version": "3.5.2"
  }
 },
 "nbformat": 4,
 "nbformat_minor": 2
}
